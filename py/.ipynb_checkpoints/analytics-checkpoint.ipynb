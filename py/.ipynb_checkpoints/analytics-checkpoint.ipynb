{
 "cells": [
  {
   "cell_type": "code",
   "execution_count": 2,
   "id": "78dea3b7",
   "metadata": {},
   "outputs": [],
   "source": [
    "import pandas as pd\n",
    "from pathlib import Path\n",
    "import numpy as np"
   ]
  },
  {
   "cell_type": "code",
   "execution_count": 3,
   "id": "9e4eb8d8",
   "metadata": {},
   "outputs": [],
   "source": [
    "def read_result(filename : str) -> pd.DataFrame:\n",
    "    path = Path(\"../results/\")\n",
    "    filepath = path / filename\n",
    "    df = pd.read_csv(filepath, index_col=0, names = [\"index\",\"nodes_expanded\",\"solution_length\",\"execution_time\",\"avg_heuristic\",\"initial_heuristic\"])\n",
    "    return df\n",
    "    "
   ]
  },
  {
   "cell_type": "code",
   "execution_count": 4,
   "id": "c9ad909c-f33c-4713-b9bc-4f9327da1235",
   "metadata": {},
   "outputs": [],
   "source": [
    "# {-bfs | -idfs | -astar | -idastar | -gbfs}\n",
    "filenames = [\"bfs8.csv\", \"idfs8.csv\", \"gbfs8.csv\", \"astar8.csv\", \"astar15.csv\", \"idastar8.csv\", \"idastar15.csv\"]\n",
    "results = {}\n",
    "for filename in filenames:\n",
    "    df = read_result(filename)\n",
    "    results[filename] = {\n",
    "        \"df\": df,\n",
    "        \"percentage_solution_found\": (len(df) - len(df[df[\"nodes_expanded\"] == \"-\"])) / len(df),\n",
    "        \"execution_time\": df[df[\"execution_time\"] != \"-\"][\"execution_time\"].astype(float).sum()\n",
    "    }\n"
   ]
  },
  {
   "cell_type": "markdown",
   "id": "614b7eb5-f581-4600-9039-8379e75b7cf3",
   "metadata": {},
   "source": [
    "## TOTAL EXECUTION TIME"
   ]
  },
  {
   "cell_type": "code",
   "execution_count": 21,
   "id": "c9378275-7e65-4448-92c5-9b07c3a92aa9",
   "metadata": {},
   "outputs": [
    {
     "name": "stdout",
     "output_type": "stream",
     "text": [
      "bfs8.csv - total_execution_time: 2.200276s\n",
      "idfs8.csv - total_execution_time: 18.571455s\n",
      "gbfs8.csv - total_execution_time: 0.044625s\n",
      "astar8.csv - total_execution_time: 0.021939999999999998s\n",
      "astar15.csv - total_execution_time: 321.52148399999993s\n",
      "idastar8.csv - total_execution_time: 0.058376000000000004s\n",
      "idastar15.csv - total_execution_time: 398.760421s\n"
     ]
    }
   ],
   "source": [
    "for filename in filenames:\n",
    "    print(filename + \" - total_execution_time: \" + str(results[filename][\"execution_time\"]) + \"s\")"
   ]
  },
  {
   "cell_type": "markdown",
   "id": "9e2264f0-0ea9-43a8-a685-dc642edc73b9",
   "metadata": {},
   "source": [
    "## AVG EXECUTION TIME"
   ]
  },
  {
   "cell_type": "code",
   "execution_count": 10,
   "id": "8630c0be-c771-4c6d-835f-ad55958d3f48",
   "metadata": {},
   "outputs": [
    {
     "name": "stdout",
     "output_type": "stream",
     "text": [
      "bfs8.csv - avg_execution_time: 0.02200276s\n",
      "idfs8.csv - avg_execution_time: 0.18571455s\n",
      "gbfs8.csv - avg_execution_time: 0.00044625s\n",
      "astar8.csv - avg_execution_time: 0.00021939999999999997s\n",
      "astar15.csv - avg_execution_time: 3.5724609333333324s\n",
      "idastar8.csv - avg_execution_time: 0.00058376s\n",
      "idastar15.csv - avg_execution_time: 4.691299070588236s\n"
     ]
    }
   ],
   "source": [
    "for filename in filenames:\n",
    "    df = results[filename][\"df\"]\n",
    "    count = len(df[df[\"execution_time\"] != \"-\"])\n",
    "    print(filename + \" - avg_execution_time: \" + str(results[filename][\"execution_time\"] / count) + \"s\")"
   ]
  },
  {
   "cell_type": "markdown",
   "id": "ed0e5ed1-fc00-4042-8130-235ba536ed79",
   "metadata": {},
   "source": [
    "## AVG NODES EXPANDED"
   ]
  },
  {
   "cell_type": "code",
   "execution_count": 14,
   "id": "52a8ae9d-c14e-4467-846c-2e0f46decc07",
   "metadata": {},
   "outputs": [
    {
     "name": "stdout",
     "output_type": "stream",
     "text": [
      "bfs8.csv - avg_nodes_expanded: 81459.54\n",
      "idfs8.csv - avg_nodes_expanded: 2578290.56\n",
      "gbfs8.csv - avg_nodes_expanded: 392.42\n",
      "astar8.csv - avg_nodes_expanded: 895.0\n",
      "astar15.csv - avg_nodes_expanded: 5643956.588888889\n",
      "idastar8.csv - avg_nodes_expanded: 2373.03\n",
      "idastar15.csv - avg_nodes_expanded: 46561394.964705884\n"
     ]
    }
   ],
   "source": [
    "for filename in filenames:\n",
    "    df = results[filename][\"df\"]\n",
    "    df = df[df[\"nodes_expanded\"] != \"-\"]\n",
    "    print(filename + \" - avg_nodes_expanded: \" + str(df[\"nodes_expanded\"].astype(int).sum() / len(df)))"
   ]
  },
  {
   "cell_type": "markdown",
   "id": "e14b670e-8d46-4016-a375-6f3cfdb3d594",
   "metadata": {},
   "source": [
    "## AVG SOLUTION LENGTH"
   ]
  },
  {
   "cell_type": "code",
   "execution_count": 15,
   "id": "ab4e65e7-cb50-4e19-bd71-3171d29d7c3e",
   "metadata": {},
   "outputs": [
    {
     "name": "stdout",
     "output_type": "stream",
     "text": [
      "bfs8.csv - avg_solution_length: 22.16\n",
      "idfs8.csv - avg_solution_length: 22.16\n",
      "gbfs8.csv - avg_solution_length: 140.52\n",
      "astar8.csv - avg_solution_length: 22.16\n",
      "astar15.csv - avg_solution_length: 52.144444444444446\n",
      "idastar8.csv - avg_solution_length: 22.16\n",
      "idastar15.csv - avg_solution_length: 51.89411764705882\n"
     ]
    }
   ],
   "source": [
    "for filename in filenames:\n",
    "    df = results[filename][\"df\"]\n",
    "    df = df[df[\"solution_length\"] != \"-\"]\n",
    "    print(filename + \" - avg_solution_length: \" + str(df[\"solution_length\"].astype(int).sum() / len(df)))"
   ]
  },
  {
   "cell_type": "markdown",
   "id": "14f4b04b-b533-4c0c-a5c1-c4f0aed942d7",
   "metadata": {},
   "source": [
    "## AVG INITIAL HEURISTIC"
   ]
  },
  {
   "cell_type": "code",
   "execution_count": 19,
   "id": "6eb243a5-0608-4adb-b3b6-eb416dca0efd",
   "metadata": {},
   "outputs": [
    {
     "name": "stdout",
     "output_type": "stream",
     "text": [
      "bfs8.csv - avg_initial_heuristic: 13.88\n",
      "idfs8.csv - avg_initial_heuristic: 13.88\n",
      "gbfs8.csv - avg_initial_heuristic: 13.88\n",
      "astar8.csv - avg_initial_heuristic: 13.88\n",
      "astar15.csv - avg_initial_heuristic: 36.7\n",
      "idastar8.csv - avg_initial_heuristic: 13.88\n",
      "idastar15.csv - avg_initial_heuristic: 36.576470588235296\n"
     ]
    }
   ],
   "source": [
    "for filename in filenames:\n",
    "    df = results[filename][\"df\"]\n",
    "    df = df[df[\"initial_heuristic\"] != \"-\"]\n",
    "    print(filename + \" - avg_initial_heuristic: \" + str(df[\"initial_heuristic\"].astype(float).sum() / len(df)))"
   ]
  },
  {
   "cell_type": "markdown",
   "id": "d6e7152c-359e-41ca-80ad-5f54aeb97c62",
   "metadata": {},
   "source": [
    "## AVG HEURISTIC"
   ]
  },
  {
   "cell_type": "code",
   "execution_count": 20,
   "id": "bb726caa-bd87-4fdd-8719-c28046d877b4",
   "metadata": {},
   "outputs": [
    {
     "name": "stdout",
     "output_type": "stream",
     "text": [
      "bfs8.csv - avg_heuristic: 0.0\n",
      "idfs8.csv - avg_heuristic: 0.0\n",
      "gbfs8.csv - avg_heuristic: 6.893046399999999\n",
      "astar8.csv - avg_heuristic: 10.0277542\n",
      "astar15.csv - avg_heuristic: 25.63274911111111\n",
      "idastar8.csv - avg_heuristic: 10.4328463\n",
      "idastar15.csv - avg_heuristic: 15.107465882352946\n"
     ]
    }
   ],
   "source": [
    "for filename in filenames:\n",
    "    df = results[filename][\"df\"]\n",
    "    df = df[df[\"avg_heuristic\"] != \"-\"]\n",
    "    print(filename + \" - avg_heuristic: \" + str(df[\"avg_heuristic\"].astype(float).sum() / len(df)))"
   ]
  },
  {
   "cell_type": "markdown",
   "id": "4265c3cf-5a3e-42d1-88a7-9b9381104acc",
   "metadata": {},
   "source": [
    "## PERCENTAGE SOLUTION FOUND"
   ]
  },
  {
   "cell_type": "code",
   "execution_count": 72,
   "id": "049c5a43-575d-4a49-ab71-e32c8ad0e3e5",
   "metadata": {},
   "outputs": [
    {
     "name": "stdout",
     "output_type": "stream",
     "text": [
      "bfs8.csv - percentage_solution_found: 100.0%\n",
      "idfs8.csv - percentage_solution_found: 100.0%\n",
      "gbfs8.csv - percentage_solution_found: 100.0%\n",
      "astar8.csv - percentage_solution_found: 100.0%\n",
      "astar15.csv - percentage_solution_found: 90.0%\n",
      "idastar8.csv - percentage_solution_found: 100.0%\n",
      "idastar15.csv - percentage_solution_found: 85.0%\n"
     ]
    }
   ],
   "source": [
    "for filename in filenames:\n",
    "    print(filename + \" - percentage_solution_found: \" + str(results[filename][\"percentage_solution_found\"]*100 ) + \"%\")"
   ]
  },
  {
   "cell_type": "code",
   "execution_count": 73,
   "id": "ccb3dab1-8416-4de8-a53e-4687bb2b0dd5",
   "metadata": {},
   "outputs": [],
   "source": [
    "df_astar15 = results[\"astar15.csv\"][\"df\"]\n",
    "df_idastar15 = results[\"idastar15.csv\"][\"df\"]\n",
    "indexes_astar15_not_found = set(df_astar15.index[df_astar15[\"nodes_expanded\"] == \"-\"].tolist())\n",
    "indexes_idastar15_not_found = set(df_idastar15.index[df_idastar15[\"nodes_expanded\"] == \"-\"].tolist())"
   ]
  },
  {
   "cell_type": "code",
   "execution_count": 74,
   "id": "18aadebf-3fff-4de2-a759-8872bdbaa4d0",
   "metadata": {},
   "outputs": [
    {
     "name": "stdout",
     "output_type": "stream",
     "text": [
      "Solution not found with A*:{66, 88, 92, 17, 49, 82, 53, 56, 59, 60}\n",
      "Solution not found with IDA*:{32, 66, 72, 88, 91, 14, 92, 17, 49, 82, 22, 56, 59, 60, 63}\n"
     ]
    }
   ],
   "source": [
    "print(f\"Solution not found with A*:{indexes_astar15_not_found}\")\n",
    "print(f\"Solution not found with IDA*:{indexes_idastar15_not_found}\")"
   ]
  },
  {
   "cell_type": "code",
   "execution_count": 75,
   "id": "c85a3b6b-e84e-4a2e-941e-d76d7ffb9abe",
   "metadata": {},
   "outputs": [
    {
     "name": "stdout",
     "output_type": "stream",
     "text": [
      "Solution not found with IDA* and A*:{66, 60, 17, 49, 82, 88, 56, 59, 92}\n"
     ]
    }
   ],
   "source": [
    "print(f\"Solution not found with IDA* and A*:{indexes_idastar15_not_found & indexes_astar15_not_found}\")"
   ]
  },
  {
   "cell_type": "code",
   "execution_count": 76,
   "id": "841b2002-9632-4732-8c87-40f8edb63471",
   "metadata": {},
   "outputs": [
    {
     "name": "stdout",
     "output_type": "stream",
     "text": [
      "Solution not found with IDA* and found with A*:{32, 72, 14, 22, 91, 63}\n"
     ]
    }
   ],
   "source": [
    "print(f\"Solution not found with IDA* and found with A*:{indexes_idastar15_not_found - indexes_astar15_not_found}\")"
   ]
  },
  {
   "cell_type": "code",
   "execution_count": 77,
   "id": "9e52e1e3-ad36-43c5-a1df-25f8cbe262a2",
   "metadata": {},
   "outputs": [
    {
     "name": "stdout",
     "output_type": "stream",
     "text": [
      "Solution not found with A* and found with IDA*:{53}\n"
     ]
    }
   ],
   "source": [
    "print(f\"Solution not found with A* and found with IDA*:{indexes_astar15_not_found - indexes_idastar15_not_found}\")"
   ]
  }
 ],
 "metadata": {
  "kernelspec": {
   "display_name": "Python 3 (ipykernel)",
   "language": "python",
   "name": "python3"
  },
  "language_info": {
   "codemirror_mode": {
    "name": "ipython",
    "version": 3
   },
   "file_extension": ".py",
   "mimetype": "text/x-python",
   "name": "python",
   "nbconvert_exporter": "python",
   "pygments_lexer": "ipython3",
   "version": "3.13.5"
  }
 },
 "nbformat": 4,
 "nbformat_minor": 5
}
